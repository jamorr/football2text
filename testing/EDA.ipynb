{
 "cells": [
  {
   "cell_type": "code",
   "execution_count": 12,
   "metadata": {},
   "outputs": [],
   "source": [
    "import pandas as pd\n",
    "import pathlib\n",
    "pd.set_option('display.float_format', lambda x: '%.2f' % x)"
   ]
  },
  {
   "cell_type": "code",
   "execution_count": 13,
   "metadata": {},
   "outputs": [],
   "source": [
    "data_dir = pathlib.Path('./data')\n",
    "save_dir = data_dir/\"tracking_weeks\""
   ]
  },
  {
   "cell_type": "code",
   "execution_count": 21,
   "metadata": {},
   "outputs": [
    {
     "data": {
      "text/plain": [
       "{<NA>,\n",
       " 'autoevent_ballsnap',\n",
       " 'autoevent_passforward',\n",
       " 'autoevent_passinterrupted',\n",
       " 'ball_snap',\n",
       " 'first_contact',\n",
       " 'fumble',\n",
       " 'fumble_defense_recovered',\n",
       " 'fumble_offense_recovered',\n",
       " 'handoff',\n",
       " 'lateral',\n",
       " 'line_set',\n",
       " 'man_in_motion',\n",
       " 'out_of_bounds',\n",
       " 'pass_arrived',\n",
       " 'pass_forward',\n",
       " 'pass_outcome_caught',\n",
       " 'pass_outcome_touchdown',\n",
       " 'pass_shovel',\n",
       " 'penalty_accepted',\n",
       " 'penalty_flag',\n",
       " 'play_action',\n",
       " 'qb_sack',\n",
       " 'qb_slide',\n",
       " 'run',\n",
       " 'run_pass_option',\n",
       " 'safety',\n",
       " 'shift',\n",
       " 'snap_direct',\n",
       " 'tackle',\n",
       " 'touchdown'}"
      ]
     },
     "execution_count": 21,
     "metadata": {},
     "output_type": "execute_result"
    }
   ],
   "source": [
    "# map idx to game/playid\n",
    "\n",
    "\n",
    "events = set()\n",
    "for file_path in data_dir.glob(\"tracking_week_*.csv\"):\n",
    "    tracking_df = pd.read_csv(file_path, dtype_backend='pyarrow')\n",
    "    event_u = tracking_df.event.unique()\n",
    "    events.update(event_u)\n",
    "        # club, club_factor = pd.factorize(tracking_df['club'])\n",
    "        # plays_in_week = pd.DataFrame(\n",
    "        #     tracking_df[['gameId', 'playId', 'dir']].groupby(['gameId', 'playId']) \\\n",
    "        #         .count().reset_index().drop('dir', axis='columns'))\n",
    "    #     tracking_df.to_parquet(save_dir, partition_cols=[\"gameId\", \"playId\"])\n",
    "    # players_df = pd.read_csv(data_dir/'players.csv', dtype_backend='pyarrow')\n",
    "    # players_df.to_parquet(data_dir/'players.parquet')\n",
    "    # target_df = pd.read_csv(data_dir/'plays.csv', dtype_backend='pyarrow')\n",
    "    # target_df.to_parquet(data_dir/'target.parquet')\n",
    "    # del tracking_df, plays_in_week, players_df, target_df\n",
    "events"
   ]
  },
  {
   "cell_type": "code",
   "execution_count": null,
   "metadata": {},
   "outputs": [],
   "source": []
  },
  {
   "cell_type": "code",
   "execution_count": 16,
   "metadata": {},
   "outputs": [
    {
     "data": {
      "text/plain": [
       "<ArrowExtensionArray>\n",
       "[ 122, 1286, 1563, 1736,  191, 1946, 2043, 2163, 2184,  236, 2360, 2506, 2572,\n",
       " 2599, 2648, 2688,  299, 3092, 3304, 3341, 3636,  393,  414,  529,  692,  896,\n",
       "  933]\n",
       "Length: 27, dtype: int64[pyarrow]"
      ]
     },
     "execution_count": 16,
     "metadata": {},
     "output_type": "execute_result"
    }
   ],
   "source": [
    "pd.read_parquet(r'C:\\Users\\Morri\\Documents\\Notebooks\\Deep_Learning\\Project\\data\\test\\tracking_weeks\\gameId=2022090800')['playId'].unique()"
   ]
  },
  {
   "cell_type": "code",
   "execution_count": 18,
   "metadata": {},
   "outputs": [
    {
     "data": {
      "text/plain": [
       "17010.0"
      ]
     },
     "execution_count": 18,
     "metadata": {},
     "output_type": "execute_result"
    }
   ],
   "source": [
    "27/.2 * 14 * 9\n"
   ]
  },
  {
   "cell_type": "code",
   "execution_count": null,
   "metadata": {},
   "outputs": [],
   "source": [
    "\n",
    "pd.read_parquet()"
   ]
  },
  {
   "cell_type": "markdown",
   "metadata": {},
   "source": [
    "Generating play index"
   ]
  },
  {
   "cell_type": "markdown",
   "metadata": {},
   "source": [
    "Generating dictionary for weeks"
   ]
  },
  {
   "cell_type": "code",
   "execution_count": 8,
   "metadata": {},
   "outputs": [
    {
     "data": {
      "text/html": [
       "<div>\n",
       "<style scoped>\n",
       "    .dataframe tbody tr th:only-of-type {\n",
       "        vertical-align: middle;\n",
       "    }\n",
       "\n",
       "    .dataframe tbody tr th {\n",
       "        vertical-align: top;\n",
       "    }\n",
       "\n",
       "    .dataframe thead th {\n",
       "        text-align: right;\n",
       "    }\n",
       "</style>\n",
       "<table border=\"1\" class=\"dataframe\">\n",
       "  <thead>\n",
       "    <tr style=\"text-align: right;\">\n",
       "      <th></th>\n",
       "      <th>Week</th>\n",
       "      <th>Max</th>\n",
       "      <th>Min</th>\n",
       "    </tr>\n",
       "  </thead>\n",
       "  <tbody>\n",
       "    <tr>\n",
       "      <th>0</th>\n",
       "      <td>Week 1</td>\n",
       "      <td>2022091200</td>\n",
       "      <td>2022090800</td>\n",
       "    </tr>\n",
       "    <tr>\n",
       "      <th>1</th>\n",
       "      <td>Week 2</td>\n",
       "      <td>2022091901</td>\n",
       "      <td>2022091500</td>\n",
       "    </tr>\n",
       "    <tr>\n",
       "      <th>2</th>\n",
       "      <td>Week 3</td>\n",
       "      <td>2022092600</td>\n",
       "      <td>2022092200</td>\n",
       "    </tr>\n",
       "    <tr>\n",
       "      <th>3</th>\n",
       "      <td>Week 4</td>\n",
       "      <td>2022100300</td>\n",
       "      <td>2022092900</td>\n",
       "    </tr>\n",
       "    <tr>\n",
       "      <th>4</th>\n",
       "      <td>Week 5</td>\n",
       "      <td>2022101000</td>\n",
       "      <td>2022100600</td>\n",
       "    </tr>\n",
       "    <tr>\n",
       "      <th>5</th>\n",
       "      <td>Week 6</td>\n",
       "      <td>2022101700</td>\n",
       "      <td>2022101300</td>\n",
       "    </tr>\n",
       "    <tr>\n",
       "      <th>6</th>\n",
       "      <td>Week 7</td>\n",
       "      <td>2022102400</td>\n",
       "      <td>2022102000</td>\n",
       "    </tr>\n",
       "    <tr>\n",
       "      <th>7</th>\n",
       "      <td>Week 8</td>\n",
       "      <td>2022103100</td>\n",
       "      <td>2022102700</td>\n",
       "    </tr>\n",
       "  </tbody>\n",
       "</table>\n",
       "</div>"
      ],
      "text/plain": [
       "     Week         Max         Min\n",
       "0  Week 1  2022091200  2022090800\n",
       "1  Week 2  2022091901  2022091500\n",
       "2  Week 3  2022092600  2022092200\n",
       "3  Week 4  2022100300  2022092900\n",
       "4  Week 5  2022101000  2022100600\n",
       "5  Week 6  2022101700  2022101300\n",
       "6  Week 7  2022102400  2022102000\n",
       "7  Week 8  2022103100  2022102700"
      ]
     },
     "execution_count": 8,
     "metadata": {},
     "output_type": "execute_result"
    }
   ],
   "source": [
    "# dfs = []\n",
    "# rangedict = {}\n",
    "# for i in range(1, 9):\n",
    "#     filename = f\"data/tracking_week_{i}.csv\"\n",
    "#     tdf = pd.read_csv(filename)\n",
    "#     # Use .astype(int) to ensure the values are stored as integers\n",
    "#     max_value = int(tdf['gameId'].max())\n",
    "#     min_value = int(tdf['gameId'].min())\n",
    "#     rangedict[i] = {'Week': f\"Week {i}\", 'Max': max_value, 'Min': min_value}\n",
    "\n",
    "# range_df = pd.DataFrame.from_dict(rangedict, orient='index')\n",
    "\n",
    "# range_df.reset_index(drop=True, inplace=True)\n",
    "\n",
    "\n",
    "# range_df.to_csv(\"data/weeks.csv\")\n",
    "# range_df\n"
   ]
  },
  {
   "cell_type": "code",
   "execution_count": 24,
   "metadata": {},
   "outputs": [
    {
     "data": {
      "text/plain": [
       "80"
      ]
     },
     "execution_count": 24,
     "metadata": {},
     "output_type": "execute_result"
    }
   ],
   "source": [
    "tp = pd.read_parquet(\"data/train/tracking_weeks/gameId=2022090800\")\n",
    "tp.frameId.max()"
   ]
  }
 ],
 "metadata": {
  "kernelspec": {
   "display_name": "Python 3",
   "language": "python",
   "name": "python3"
  },
  "language_info": {
   "codemirror_mode": {
    "name": "ipython",
    "version": 3
   },
   "file_extension": ".py",
   "mimetype": "text/x-python",
   "name": "python",
   "nbconvert_exporter": "python",
   "pygments_lexer": "ipython3",
   "version": "3.12.2"
  }
 },
 "nbformat": 4,
 "nbformat_minor": 2
}
